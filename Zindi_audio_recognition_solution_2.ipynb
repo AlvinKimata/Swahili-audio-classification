{
  "nbformat": 4,
  "nbformat_minor": 0,
  "metadata": {
    "colab": {
      "provenance": [],
      "collapsed_sections": []
    },
    "kernelspec": {
      "name": "python3",
      "display_name": "Python 3"
    },
    "language_info": {
      "name": "python"
    },
    "gpuClass": "standard",
    "accelerator": "GPU"
  },
  "cells": [
    {
      "cell_type": "code",
      "source": [
        "!apt install --allow-change-held-packages libcudnn8=8.1.0.77-1+cuda11.2"
      ],
      "metadata": {
        "colab": {
          "base_uri": "https://localhost:8080/"
        },
        "id": "fr7lLBbejvJM",
        "outputId": "a7ffb4e6-545e-4bf4-afbd-870b7cd8dd2b"
      },
      "execution_count": 1,
      "outputs": [
        {
          "output_type": "stream",
          "name": "stdout",
          "text": [
            "Reading package lists... Done\n",
            "Building dependency tree       \n",
            "Reading state information... Done\n",
            "The following package was automatically installed and is no longer required:\n",
            "  libnvidia-common-460\n",
            "Use 'apt autoremove' to remove it.\n",
            "The following packages will be REMOVED:\n",
            "  libcudnn8-dev\n",
            "The following held packages will be changed:\n",
            "  libcudnn8\n",
            "The following packages will be upgraded:\n",
            "  libcudnn8\n",
            "1 upgraded, 0 newly installed, 1 to remove and 30 not upgraded.\n",
            "Need to get 430 MB of archives.\n",
            "After this operation, 3,139 MB disk space will be freed.\n",
            "Get:1 https://developer.download.nvidia.com/compute/cuda/repos/ubuntu1804/x86_64  libcudnn8 8.1.0.77-1+cuda11.2 [430 MB]\n",
            "Fetched 430 MB in 8s (51.7 MB/s)\n",
            "(Reading database ... 155685 files and directories currently installed.)\n",
            "Removing libcudnn8-dev (8.0.5.39-1+cuda11.1) ...\n",
            "(Reading database ... 155663 files and directories currently installed.)\n",
            "Preparing to unpack .../libcudnn8_8.1.0.77-1+cuda11.2_amd64.deb ...\n",
            "Unpacking libcudnn8 (8.1.0.77-1+cuda11.2) over (8.0.5.39-1+cuda11.1) ...\n",
            "Setting up libcudnn8 (8.1.0.77-1+cuda11.2) ...\n"
          ]
        }
      ]
    },
    {
      "cell_type": "code",
      "source": [
        "!pip install -U tensorflow tensorflow_datasets"
      ],
      "metadata": {
        "id": "eLYwBb6BlOHL"
      },
      "execution_count": null,
      "outputs": []
    },
    {
      "cell_type": "code",
      "source": [
        "import os\n",
        "import pathlib\n",
        "\n",
        "import matplotlib.pyplot as plt\n",
        "from IPython import display\n",
        "\n",
        "import numpy as np\n",
        "import seaborn as sns\n",
        "import tensorflow as tf\n",
        "from tensorflow.keras import layers, models\n",
        "from tensorflow.keras.preprocessing.image import ImageDataGenerator\n",
        "\n",
        "\n",
        "#Set seed value for reproducibility.\n",
        "seed = 42\n",
        "tf.random.set_seed(seed)\n",
        "np.random.seed(seed)"
      ],
      "metadata": {
        "id": "29uUyl5KHGRi"
      },
      "execution_count": 130,
      "outputs": []
    },
    {
      "cell_type": "markdown",
      "source": [
        "## Import the `Spectograms dataset`"
      ],
      "metadata": {
        "id": "A3ANNkwoH14a"
      }
    },
    {
      "cell_type": "code",
      "source": [
        "DATASET_PATH = '/content/spectograms'\n",
        "\n",
        "data_dir = pathlib.Path(DATASET_PATH)\n",
        "\n",
        "if not data_dir.exists():\n",
        "  tf.keras.utils.get_file(\n",
        "      'spectograms_2.zip',\n",
        "      origin = \"https://debonair-sa.s3.af-south-1.amazonaws.com/datasets/spectograms_2.zip\",\n",
        "      extract = True, \n",
        "      cache_dir = '.'\n",
        "      )"
      ],
      "metadata": {
        "id": "UYtbSIyhHkHB",
        "colab": {
          "base_uri": "https://localhost:8080/"
        },
        "outputId": "6ac9a685-07e7-4c44-a4cb-d955f5a5c6bb"
      },
      "execution_count": 4,
      "outputs": [
        {
          "output_type": "stream",
          "name": "stdout",
          "text": [
            "Downloading data from https://debonair-sa.s3.af-south-1.amazonaws.com/datasets/spectograms_2.zip\n",
            "736054096/736054096 [==============================] - 72s 0us/step\n"
          ]
        }
      ]
    },
    {
      "cell_type": "code",
      "source": [
        "data_dir = '/content/spectograms_final'"
      ],
      "metadata": {
        "id": "BQi0EB8nUvNT"
      },
      "execution_count": 8,
      "outputs": []
    },
    {
      "cell_type": "code",
      "source": [
        "commands = np.array(tf.io.gfile.listdir(str(data_dir)))\n",
        "\n",
        "print(f'Commands: {commands}')"
      ],
      "metadata": {
        "colab": {
          "base_uri": "https://localhost:8080/"
        },
        "id": "sOwma4_dTdWg",
        "outputId": "7bc4bb73-2ddd-4701-bd37-d32552cf9c9b"
      },
      "execution_count": 9,
      "outputs": [
        {
          "output_type": "stream",
          "name": "stdout",
          "text": [
            "Commands: ['kumi' 'tatu' 'moja' 'mbili' 'sita' 'saba' 'tisa' 'tano' 'ndio' 'nane'\n",
            " 'nne' 'hapana']\n"
          ]
        }
      ]
    },
    {
      "cell_type": "markdown",
      "source": [
        "#### The audio clips are 1 second or less at 16kHz. The `output_seqence_length = 16_000` pads the short ones to exactly 1 second (and would trim longer ones) so that they can easily be batched."
      ],
      "metadata": {
        "id": "gFQ8hIlOUOAi"
      }
    },
    {
      "cell_type": "code",
      "source": [
        "train_ds, val_ds = tf.keras.utils.image_dataset_from_directory(\n",
        "    directory = data_dir, \n",
        "    batch_size = 64, \n",
        "    shuffle = True,\n",
        "    validation_split = 0.2, \n",
        "    seed = 0,\n",
        "    subset = 'both'\n",
        ")\n",
        "\n",
        "label_names = np.array(train_ds.class_names)\n",
        "print('Label names: ', label_names)"
      ],
      "metadata": {
        "colab": {
          "base_uri": "https://localhost:8080/"
        },
        "id": "Ioz2hZxAUJ4l",
        "outputId": "a183f7d7-f0b7-4bf4-a7c0-0ba515128a11"
      },
      "execution_count": 11,
      "outputs": [
        {
          "output_type": "stream",
          "name": "stdout",
          "text": [
            "Found 4200 files belonging to 12 classes.\n",
            "Using 3360 files for training.\n",
            "Using 840 files for validation.\n",
            "Label names:  ['hapana' 'kumi' 'mbili' 'moja' 'nane' 'ndio' 'nne' 'saba' 'sita' 'tano'\n",
            " 'tatu' 'tisa']\n"
          ]
        }
      ]
    },
    {
      "cell_type": "code",
      "source": [
        "train_ds.element_spec"
      ],
      "metadata": {
        "colab": {
          "base_uri": "https://localhost:8080/"
        },
        "id": "luyb6L-RV2-P",
        "outputId": "cac0ba7c-4a67-4f39-c95b-7d0f17fe167a"
      },
      "execution_count": 12,
      "outputs": [
        {
          "output_type": "execute_result",
          "data": {
            "text/plain": [
              "(TensorSpec(shape=(None, 256, 256, 3), dtype=tf.float32, name=None),\n",
              " TensorSpec(shape=(None,), dtype=tf.int32, name=None))"
            ]
          },
          "metadata": {},
          "execution_count": 12
        }
      ]
    },
    {
      "cell_type": "markdown",
      "source": [
        "The `utils.audio_dataset_from_directory` function only returns up to 2 splits. It is a good idea to keep a test set separate from your validation set. You can use `Dataset.shard` to split the validation set into 2 halves."
      ],
      "metadata": {
        "id": "uvXAVZJyWk5X"
      }
    },
    {
      "cell_type": "code",
      "source": [
        "test_ds = val_ds.shard(num_shards = 2, index = 0)\n",
        "val_ds = val_ds.shard(num_shards = 2, index = 1)\n",
        "\n",
        "\n",
        "for example_audio, example_labels in train_ds.take(1):\n",
        "  print(example_audio.shape)\n",
        "  print(example_labels.shape)"
      ],
      "metadata": {
        "colab": {
          "base_uri": "https://localhost:8080/"
        },
        "id": "lICqVDVvWkf-",
        "outputId": "84689d82-f0a1-49c0-cf9f-c55fc5a2db8c"
      },
      "execution_count": 13,
      "outputs": [
        {
          "output_type": "stream",
          "name": "stdout",
          "text": [
            "(64, 256, 256, 3)\n",
            "(64,)\n"
          ]
        }
      ]
    },
    {
      "cell_type": "markdown",
      "source": [
        "Visualize a few audio waveforms."
      ],
      "metadata": {
        "id": "sfIyM1zMXaIm"
      }
    },
    {
      "cell_type": "markdown",
      "source": [
        "## Build and train model.\n",
        "Add `Dataset.cache` and `Dataset.prefetch` operations to reduce read latency while training the model."
      ],
      "metadata": {
        "id": "KPKkFZAlemtw"
      }
    },
    {
      "cell_type": "code",
      "source": [
        "train_spectrogram_ds = train_ds.cache().shuffle(10_000).prefetch(tf.data.AUTOTUNE)\n",
        "val_spectrograms_ds = val_ds.cache().prefetch(tf.data.AUTOTUNE)\n",
        "test_spectrograms_ds = test_ds.cache().prefetch(tf.data.AUTOTUNE)"
      ],
      "metadata": {
        "id": "c3Y2TXhMdzmg"
      },
      "execution_count": 17,
      "outputs": []
    },
    {
      "cell_type": "markdown",
      "source": [
        "Your model will use the following preprocessing layers: \n",
        "- `tf.keras.layers.Resizing` to downsample the input to enable the model to train faster.\n",
        "- `tf.keras.layers.Normalization` to normalize each pixel in the image based on its mean and standard deviation.\n",
        "\n",
        "For the `Normalization` layer, its `adapt` memthod would first need to be called on the training data in order to compute aggergate statistics."
      ],
      "metadata": {
        "id": "JVNFsuNWfU80"
      }
    },
    {
      "cell_type": "code",
      "source": [
        "for example_spectrograms, example_spect_labels in train_spectrogram_ds.take(1):\n",
        "  break"
      ],
      "metadata": {
        "id": "mGemgysT1MPI"
      },
      "execution_count": 19,
      "outputs": []
    },
    {
      "cell_type": "code",
      "source": [
        "input_shape = example_spectrograms.shape[1:]\n",
        "print('Input shape: ', input_shape)\n",
        "num_labels = len(commands)\n",
        "\n",
        "#Instantiate the tf.keras.layers.Normalization layer.\n",
        "norm_layer = layers.Normalization()\n",
        "\n",
        "#Fit the state oft the layer to the spectograms with `Normalization.adapt`\n",
        "norm_layer.adapt(data = train_spectrogram_ds.map(map_func = lambda spec, label: spec))\n",
        "\n",
        "inputs = layers.Input(shape = input_shape)\n",
        "\n",
        "#Downsample the input.\n",
        "x = layers.Resizing(32, 32)(inputs)\n",
        "\n",
        "#Normalize.\n",
        "x = norm_layer(x)\n",
        "x = layers.Conv2D(32, 3, activation = 'relu')(x)\n",
        "x = layers.Conv2D(64, 3, activation = 'relu')(x)\n",
        "x = layers.MaxPooling2D()(x)\n",
        "x = layers.Dropout(0.25)(x)\n",
        "x = layers.Flatten()(x)\n",
        "x = layers.Dense(128, activation = 'relu')(x)\n",
        "x = layers.Dropout(0.25)(x)\n",
        "outputs = layers.Dense(num_labels)(x)\n",
        "\n",
        "model = tf.keras.Model(inputs, outputs)\n",
        "\n",
        "model.summary()"
      ],
      "metadata": {
        "colab": {
          "base_uri": "https://localhost:8080/"
        },
        "id": "yXve-9F4fSSK",
        "outputId": "ee911ca2-5cd9-411d-eabf-955e5cfdc758"
      },
      "execution_count": 22,
      "outputs": [
        {
          "output_type": "stream",
          "name": "stdout",
          "text": [
            "Input shape:  (256, 256, 3)\n",
            "Model: \"model_1\"\n",
            "_________________________________________________________________\n",
            " Layer (type)                Output Shape              Param #   \n",
            "=================================================================\n",
            " input_2 (InputLayer)        [(None, 256, 256, 3)]     0         \n",
            "                                                                 \n",
            " resizing_1 (Resizing)       (None, 32, 32, 3)         0         \n",
            "                                                                 \n",
            " normalization_1 (Normalizat  (None, 32, 32, 3)        7         \n",
            " ion)                                                            \n",
            "                                                                 \n",
            " conv2d_2 (Conv2D)           (None, 30, 30, 32)        896       \n",
            "                                                                 \n",
            " conv2d_3 (Conv2D)           (None, 28, 28, 64)        18496     \n",
            "                                                                 \n",
            " max_pooling2d_1 (MaxPooling  (None, 14, 14, 64)       0         \n",
            " 2D)                                                             \n",
            "                                                                 \n",
            " dropout_2 (Dropout)         (None, 14, 14, 64)        0         \n",
            "                                                                 \n",
            " flatten_1 (Flatten)         (None, 12544)             0         \n",
            "                                                                 \n",
            " dense_2 (Dense)             (None, 128)               1605760   \n",
            "                                                                 \n",
            " dropout_3 (Dropout)         (None, 128)               0         \n",
            "                                                                 \n",
            " dense_3 (Dense)             (None, 12)                1548      \n",
            "                                                                 \n",
            "=================================================================\n",
            "Total params: 1,626,707\n",
            "Trainable params: 1,626,700\n",
            "Non-trainable params: 7\n",
            "_________________________________________________________________\n"
          ]
        }
      ]
    },
    {
      "cell_type": "code",
      "source": [
        "#Compile model with Adam optimizer and cross-entropy loss.\n",
        "model.compile(\n",
        "    optimizer = tf.keras.optimizers.Adam(),\n",
        "    loss = tf.keras.losses.SparseCategoricalCrossentropy(from_logits = True),\n",
        "    metrics = 'accuracy'\n",
        ")\n",
        "\n",
        "#Train the model over 10 epochs.\n",
        "EPOCHS = 50\n",
        "history = model.fit(\n",
        "    train_spectrogram_ds, \n",
        "    validation_data = val_spectrograms_ds, \n",
        "    epochs = EPOCHS,\n",
        "    callbacks = tf.keras.callbacks.EarlyStopping(verbose = 1, patience = 10)\n",
        ")"
      ],
      "metadata": {
        "colab": {
          "base_uri": "https://localhost:8080/"
        },
        "id": "5LsjD-qAhrBu",
        "outputId": "0c4af573-9c4d-4bb7-d8d0-95215b52dfca"
      },
      "execution_count": 23,
      "outputs": [
        {
          "output_type": "stream",
          "name": "stdout",
          "text": [
            "Epoch 1/50\n",
            "53/53 [==============================] - 2s 28ms/step - loss: 2.4607 - accuracy: 0.1461 - val_loss: 2.1537 - val_accuracy: 0.2832\n",
            "Epoch 2/50\n",
            "53/53 [==============================] - 1s 25ms/step - loss: 1.9480 - accuracy: 0.3262 - val_loss: 1.6906 - val_accuracy: 0.4133\n",
            "Epoch 3/50\n",
            "53/53 [==============================] - 1s 25ms/step - loss: 1.5617 - accuracy: 0.4670 - val_loss: 1.4890 - val_accuracy: 0.4847\n",
            "Epoch 4/50\n",
            "53/53 [==============================] - 1s 25ms/step - loss: 1.2548 - accuracy: 0.5720 - val_loss: 1.3315 - val_accuracy: 0.5306\n",
            "Epoch 5/50\n",
            "53/53 [==============================] - 1s 25ms/step - loss: 1.0134 - accuracy: 0.6664 - val_loss: 1.2409 - val_accuracy: 0.5740\n",
            "Epoch 6/50\n",
            "53/53 [==============================] - 1s 25ms/step - loss: 0.8461 - accuracy: 0.7232 - val_loss: 1.2102 - val_accuracy: 0.5714\n",
            "Epoch 7/50\n",
            "53/53 [==============================] - 1s 25ms/step - loss: 0.6717 - accuracy: 0.7729 - val_loss: 1.2259 - val_accuracy: 0.5995\n",
            "Epoch 8/50\n",
            "53/53 [==============================] - 1s 25ms/step - loss: 0.5457 - accuracy: 0.8217 - val_loss: 1.2082 - val_accuracy: 0.6250\n",
            "Epoch 9/50\n",
            "53/53 [==============================] - 1s 25ms/step - loss: 0.4480 - accuracy: 0.8551 - val_loss: 1.2062 - val_accuracy: 0.6250\n",
            "Epoch 10/50\n",
            "53/53 [==============================] - 1s 25ms/step - loss: 0.3555 - accuracy: 0.8863 - val_loss: 1.2075 - val_accuracy: 0.6250\n",
            "Epoch 11/50\n",
            "53/53 [==============================] - 1s 25ms/step - loss: 0.2838 - accuracy: 0.9134 - val_loss: 1.3073 - val_accuracy: 0.5995\n",
            "Epoch 12/50\n",
            "53/53 [==============================] - 1s 25ms/step - loss: 0.2508 - accuracy: 0.9229 - val_loss: 1.3416 - val_accuracy: 0.6046\n",
            "Epoch 13/50\n",
            "53/53 [==============================] - 1s 25ms/step - loss: 0.2286 - accuracy: 0.9304 - val_loss: 1.4043 - val_accuracy: 0.5995\n",
            "Epoch 14/50\n",
            "53/53 [==============================] - 1s 25ms/step - loss: 0.1703 - accuracy: 0.9443 - val_loss: 1.3544 - val_accuracy: 0.6327\n",
            "Epoch 15/50\n",
            "53/53 [==============================] - 1s 24ms/step - loss: 0.1493 - accuracy: 0.9518 - val_loss: 1.3737 - val_accuracy: 0.6276\n",
            "Epoch 16/50\n",
            "53/53 [==============================] - 1s 25ms/step - loss: 0.1428 - accuracy: 0.9568 - val_loss: 1.4260 - val_accuracy: 0.6173\n",
            "Epoch 17/50\n",
            "53/53 [==============================] - 1s 25ms/step - loss: 0.1274 - accuracy: 0.9586 - val_loss: 1.4175 - val_accuracy: 0.6148\n",
            "Epoch 18/50\n",
            "53/53 [==============================] - 1s 25ms/step - loss: 0.1141 - accuracy: 0.9658 - val_loss: 1.4523 - val_accuracy: 0.6429\n",
            "Epoch 19/50\n",
            "53/53 [==============================] - 1s 25ms/step - loss: 0.1029 - accuracy: 0.9696 - val_loss: 1.5543 - val_accuracy: 0.5995\n",
            "Epoch 19: early stopping\n"
          ]
        }
      ]
    },
    {
      "cell_type": "code",
      "source": [
        "metrics = history.history\n",
        "plt.figure(figsize=(16,6))\n",
        "plt.subplot(1,2,1)\n",
        "plt.plot(history.epoch, metrics['loss'], metrics['val_loss'])\n",
        "plt.legend(['loss', 'val_loss'])\n",
        "plt.ylim([0, max(plt.ylim())])\n",
        "plt.xlabel('Epoch')\n",
        "plt.ylabel('Loss [CrossEntropy]')\n",
        "\n",
        "plt.subplot(1,2,2)\n",
        "plt.plot(history.epoch, 100*np.array(metrics['accuracy']), 100*np.array(metrics['val_accuracy']))\n",
        "plt.legend(['accuracy', 'val_accuracy'])\n",
        "plt.ylim([0, 100])\n",
        "plt.xlabel('Epoch')\n",
        "plt.ylabel('Accuracy [%]')"
      ],
      "metadata": {
        "colab": {
          "base_uri": "https://localhost:8080/",
          "height": 409
        },
        "id": "iHUKjOGtjOPk",
        "outputId": "fee9294d-4253-414a-c5fc-02e606b82b5c"
      },
      "execution_count": 24,
      "outputs": [
        {
          "output_type": "execute_result",
          "data": {
            "text/plain": [
              "Text(0, 0.5, 'Accuracy [%]')"
            ]
          },
          "metadata": {},
          "execution_count": 24
        },
        {
          "output_type": "display_data",
          "data": {
            "text/plain": [
              "<Figure size 1152x432 with 2 Axes>"
            ],
            "image/png": "[encoded data removed]"
          },
          "metadata": {
            "needs_background": "light"
          }
        }
      ]
    },
    {
      "cell_type": "markdown",
      "source": [
        "#### Evaluate model performance."
      ],
      "metadata": {
        "id": "yDsrqRDujUJC"
      }
    },
    {
      "cell_type": "code",
      "source": [
        "model.evaluate(test_spectrograms_ds, return_dict = True)"
      ],
      "metadata": {
        "colab": {
          "base_uri": "https://localhost:8080/"
        },
        "id": "8ccVsL_CjSkd",
        "outputId": "12cb7b8e-06b8-48b5-d9dc-3dc45e8fd60d"
      },
      "execution_count": 25,
      "outputs": [
        {
          "output_type": "stream",
          "name": "stdout",
          "text": [
            "7/7 [==============================] - 5s 783ms/step - loss: 1.5853 - accuracy: 0.6250\n"
          ]
        },
        {
          "output_type": "execute_result",
          "data": {
            "text/plain": [
              "{'loss': 1.5853203535079956, 'accuracy': 0.625}"
            ]
          },
          "metadata": {},
          "execution_count": 25
        }
      ]
    },
    {
      "cell_type": "markdown",
      "source": [
        "#### Display a confusion matrix."
      ],
      "metadata": {
        "id": "RHrql5TDmVZl"
      }
    },
    {
      "cell_type": "code",
      "source": [
        "y_pred = model.predict(test_spectrograms_ds)\n",
        "y_pred = tf.argmax(y_pred, axis = 1)\n",
        "\n",
        "y_true = tf.concat(list(test_spectrograms_ds.map(lambda s, lab: lab)), axis = 0)"
      ],
      "metadata": {
        "colab": {
          "base_uri": "https://localhost:8080/"
        },
        "id": "yWImSQ6IjcU6",
        "outputId": "a4c0bb87-4efa-4b9e-be86-11e17d41a1b7"
      },
      "execution_count": 26,
      "outputs": [
        {
          "output_type": "stream",
          "name": "stdout",
          "text": [
            "7/7 [==============================] - 0s 19ms/step\n"
          ]
        }
      ]
    },
    {
      "cell_type": "code",
      "source": [
        "confusion_mtx = tf.math.confusion_matrix(y_true, y_pred)\n",
        "\n",
        "plt.figure(figsize = (10, 8))\n",
        "sns.heatmap(confusion_mtx, \n",
        "            xticklabels = commands,\n",
        "            yticklabels = commands, \n",
        "            annot = True, fmt = 'g')\n",
        "\n",
        "plt.xlabel('Prediction')\n",
        "plt.ylabel('Label')\n",
        "plt.show()"
      ],
      "metadata": {
        "colab": {
          "base_uri": "https://localhost:8080/",
          "height": 497
        },
        "id": "qawsk1BWm04L",
        "outputId": "575aeb50-0842-44cc-dd94-41422feca23f"
      },
      "execution_count": 27,
      "outputs": [
        {
          "output_type": "display_data",
          "data": {
            "text/plain": [
              "<Figure size 720x576 with 2 Axes>"
            ],
            "image/png": "[encoded data removed]"
          },
          "metadata": {
            "needs_background": "light"
          }
        }
      ]
    },
    {
      "cell_type": "code",
      "source": [
        "import pandas as pd\n",
        "\n",
        "train = pd.read_csv('/content/Train.csv')\n",
        "test = pd.read_csv('/content/Test.csv')\n",
        "sample_submission = pd.read_csv('/content/SampleSubmission.csv')\n",
        "\n",
        "test.head()"
      ],
      "metadata": {
        "id": "7p8swkWooSLM",
        "colab": {
          "base_uri": "https://localhost:8080/",
          "height": 206
        },
        "outputId": "c61aa58e-8c14-4334-8ef1-640025551192"
      },
      "execution_count": 28,
      "outputs": [
        {
          "output_type": "execute_result",
          "data": {
            "text/plain": [
              "               Word_id\n",
              "0  id_jp2pxl0r84ya.wav\n",
              "1  id_ndduqqvthbpx.wav\n",
              "2  id_36oxymxfcm6q.wav\n",
              "3  id_ue9b0to760pg.wav\n",
              "4  id_prja4oprb914.wav"
            ],
            "text/html": [
              "\n",
              "  <div id=\"df-5f5e18d9-69e9-45ef-a002-b7c04ef6b809\">\n",
              "    <div class=\"colab-df-container\">\n",
              "      <div>\n",
              "<style scoped>\n",
              "    .dataframe tbody tr th:only-of-type {\n",
              "        vertical-align: middle;\n",
              "    }\n",
              "\n",
              "    .dataframe tbody tr th {\n",
              "        vertical-align: top;\n",
              "    }\n",
              "\n",
              "    .dataframe thead th {\n",
              "        text-align: right;\n",
              "    }\n",
              "</style>\n",
              "<table border=\"1\" class=\"dataframe\">\n",
              "  <thead>\n",
              "    <tr style=\"text-align: right;\">\n",
              "      <th></th>\n",
              "      <th>Word_id</th>\n",
              "    </tr>\n",
              "  </thead>\n",
              "  <tbody>\n",
              "    <tr>\n",
              "      <th>0</th>\n",
              "      <td>id_jp2pxl0r84ya.wav</td>\n",
              "    </tr>\n",
              "    <tr>\n",
              "      <th>1</th>\n",
              "      <td>id_ndduqqvthbpx.wav</td>\n",
              "    </tr>\n",
              "    <tr>\n",
              "      <th>2</th>\n",
              "      <td>id_36oxymxfcm6q.wav</td>\n",
              "    </tr>\n",
              "    <tr>\n",
              "      <th>3</th>\n",
              "      <td>id_ue9b0to760pg.wav</td>\n",
              "    </tr>\n",
              "    <tr>\n",
              "      <th>4</th>\n",
              "      <td>id_prja4oprb914.wav</td>\n",
              "    </tr>\n",
              "  </tbody>\n",
              "</table>\n",
              "</div>\n",
              "      <button class=\"colab-df-convert\" onclick=\"convertToInteractive('df-5f5e18d9-69e9-45ef-a002-b7c04ef6b809')\"\n",
              "              title=\"Convert this dataframe to an interactive table.\"\n",
              "              style=\"display:none;\">\n",
              "        \n",
              "  <svg xmlns=\"http://www.w3.org/2000/svg\" height=\"24px\"viewBox=\"0 0 24 24\"\n",
              "       width=\"24px\">\n",
              "    <path d=\"M0 0h24v24H0V0z\" fill=\"none\"/>\n",
              "    <path d=\"M18.56 5.44l.94 2.06.94-2.06 2.06-.94-2.06-.94-.94-2.06-.94 2.06-2.06.94zm-11 1L8.5 8.5l.94-2.06 2.06-.94-2.06-.94L8.5 2.5l-.94 2.06-2.06.94zm10 10l.94 2.06.94-2.06 2.06-.94-2.06-.94-.94-2.06-.94 2.06-2.06.94z\"/><path d=\"M17.41 7.96l-1.37-1.37c-.4-.4-.92-.59-1.43-.59-.52 0-1.04.2-1.43.59L10.3 9.45l-7.72 7.72c-.78.78-.78 2.05 0 2.83L4 21.41c.39.39.9.59 1.41.59.51 0 1.02-.2 1.41-.59l7.78-7.78 2.81-2.81c.8-.78.8-2.07 0-2.86zM5.41 20L4 18.59l7.72-7.72 1.47 1.35L5.41 20z\"/>\n",
              "  </svg>\n",
              "      </button>\n",
              "      \n",
              "  <style>\n",
              "    .colab-df-container {\n",
              "      display:flex;\n",
              "      flex-wrap:wrap;\n",
              "      gap: 12px;\n",
              "    }\n",
              "\n",
              "    .colab-df-convert {\n",
              "      background-color: #E8F0FE;\n",
              "      border: none;\n",
              "      border-radius: 50%;\n",
              "      cursor: pointer;\n",
              "      display: none;\n",
              "      fill: #1967D2;\n",
              "      height: 32px;\n",
              "      padding: 0 0 0 0;\n",
              "      width: 32px;\n",
              "    }\n",
              "\n",
              "    .colab-df-convert:hover {\n",
              "      background-color: #E2EBFA;\n",
              "      box-shadow: 0px 1px 2px rgba(60, 64, 67, 0.3), 0px 1px 3px 1px rgba(60, 64, 67, 0.15);\n",
              "      fill: #174EA6;\n",
              "    }\n",
              "\n",
              "    [theme=dark] .colab-df-convert {\n",
              "      background-color: #3B4455;\n",
              "      fill: #D2E3FC;\n",
              "    }\n",
              "\n",
              "    [theme=dark] .colab-df-convert:hover {\n",
              "      background-color: #434B5C;\n",
              "      box-shadow: 0px 1px 3px 1px rgba(0, 0, 0, 0.15);\n",
              "      filter: drop-shadow(0px 1px 2px rgba(0, 0, 0, 0.3));\n",
              "      fill: #FFFFFF;\n",
              "    }\n",
              "  </style>\n",
              "\n",
              "      <script>\n",
              "        const buttonEl =\n",
              "          document.querySelector('#df-5f5e18d9-69e9-45ef-a002-b7c04ef6b809 button.colab-df-convert');\n",
              "        buttonEl.style.display =\n",
              "          google.colab.kernel.accessAllowed ? 'block' : 'none';\n",
              "\n",
              "        async function convertToInteractive(key) {\n",
              "          const element = document.querySelector('#df-5f5e18d9-69e9-45ef-a002-b7c04ef6b809');\n",
              "          const dataTable =\n",
              "            await google.colab.kernel.invokeFunction('convertToInteractive',\n",
              "                                                     [key], {});\n",
              "          if (!dataTable) return;\n",
              "\n",
              "          const docLinkHtml = 'Like what you see? Visit the ' +\n",
              "            '<a target=\"_blank\" href=https://colab.research.google.com/notebooks/data_table.ipynb>data table notebook</a>'\n",
              "            + ' to learn more about interactive tables.';\n",
              "          element.innerHTML = '';\n",
              "          dataTable['output_type'] = 'display_data';\n",
              "          await google.colab.output.renderOutput(dataTable, element);\n",
              "          const docLink = document.createElement('div');\n",
              "          docLink.innerHTML = docLinkHtml;\n",
              "          element.appendChild(docLink);\n",
              "        }\n",
              "      </script>\n",
              "    </div>\n",
              "  </div>\n",
              "  "
            ]
          },
          "metadata": {},
          "execution_count": 28
        }
      ]
    },
    {
      "cell_type": "code",
      "source": [
        "#Add specogram path to test set.\n",
        "test['spec_name'] = [X.split('.')[0] + '.png' for X in test.Word_id]\n",
        "test.head(2)"
      ],
      "metadata": {
        "colab": {
          "base_uri": "https://localhost:8080/",
          "height": 112
        },
        "id": "A89e3eJp2q-X",
        "outputId": "cc6c45db-9695-4fde-95a7-2905a8eceee7"
      },
      "execution_count": 32,
      "outputs": [
        {
          "output_type": "execute_result",
          "data": {
            "text/plain": [
              "               Word_id            spec_name\n",
              "0  id_jp2pxl0r84ya.wav  id_jp2pxl0r84ya.png\n",
              "1  id_ndduqqvthbpx.wav  id_ndduqqvthbpx.png"
            ],
            "text/html": [
              "\n",
              "  <div id=\"df-33a2a5f0-5ecd-43d3-a3a0-dc6b897eb7e3\">\n",
              "    <div class=\"colab-df-container\">\n",
              "      <div>\n",
              "<style scoped>\n",
              "    .dataframe tbody tr th:only-of-type {\n",
              "        vertical-align: middle;\n",
              "    }\n",
              "\n",
              "    .dataframe tbody tr th {\n",
              "        vertical-align: top;\n",
              "    }\n",
              "\n",
              "    .dataframe thead th {\n",
              "        text-align: right;\n",
              "    }\n",
              "</style>\n",
              "<table border=\"1\" class=\"dataframe\">\n",
              "  <thead>\n",
              "    <tr style=\"text-align: right;\">\n",
              "      <th></th>\n",
              "      <th>Word_id</th>\n",
              "      <th>spec_name</th>\n",
              "    </tr>\n",
              "  </thead>\n",
              "  <tbody>\n",
              "    <tr>\n",
              "      <th>0</th>\n",
              "      <td>id_jp2pxl0r84ya.wav</td>\n",
              "      <td>id_jp2pxl0r84ya.png</td>\n",
              "    </tr>\n",
              "    <tr>\n",
              "      <th>1</th>\n",
              "      <td>id_ndduqqvthbpx.wav</td>\n",
              "      <td>id_ndduqqvthbpx.png</td>\n",
              "    </tr>\n",
              "  </tbody>\n",
              "</table>\n",
              "</div>\n",
              "      <button class=\"colab-df-convert\" onclick=\"convertToInteractive('df-33a2a5f0-5ecd-43d3-a3a0-dc6b897eb7e3')\"\n",
              "              title=\"Convert this dataframe to an interactive table.\"\n",
              "              style=\"display:none;\">\n",
              "        \n",
              "  <svg xmlns=\"http://www.w3.org/2000/svg\" height=\"24px\"viewBox=\"0 0 24 24\"\n",
              "       width=\"24px\">\n",
              "    <path d=\"M0 0h24v24H0V0z\" fill=\"none\"/>\n",
              "    <path d=\"M18.56 5.44l.94 2.06.94-2.06 2.06-.94-2.06-.94-.94-2.06-.94 2.06-2.06.94zm-11 1L8.5 8.5l.94-2.06 2.06-.94-2.06-.94L8.5 2.5l-.94 2.06-2.06.94zm10 10l.94 2.06.94-2.06 2.06-.94-2.06-.94-.94-2.06-.94 2.06-2.06.94z\"/><path d=\"M17.41 7.96l-1.37-1.37c-.4-.4-.92-.59-1.43-.59-.52 0-1.04.2-1.43.59L10.3 9.45l-7.72 7.72c-.78.78-.78 2.05 0 2.83L4 21.41c.39.39.9.59 1.41.59.51 0 1.02-.2 1.41-.59l7.78-7.78 2.81-2.81c.8-.78.8-2.07 0-2.86zM5.41 20L4 18.59l7.72-7.72 1.47 1.35L5.41 20z\"/>\n",
              "  </svg>\n",
              "      </button>\n",
              "      \n",
              "  <style>\n",
              "    .colab-df-container {\n",
              "      display:flex;\n",
              "      flex-wrap:wrap;\n",
              "      gap: 12px;\n",
              "    }\n",
              "\n",
              "    .colab-df-convert {\n",
              "      background-color: #E8F0FE;\n",
              "      border: none;\n",
              "      border-radius: 50%;\n",
              "      cursor: pointer;\n",
              "      display: none;\n",
              "      fill: #1967D2;\n",
              "      height: 32px;\n",
              "      padding: 0 0 0 0;\n",
              "      width: 32px;\n",
              "    }\n",
              "\n",
              "    .colab-df-convert:hover {\n",
              "      background-color: #E2EBFA;\n",
              "      box-shadow: 0px 1px 2px rgba(60, 64, 67, 0.3), 0px 1px 3px 1px rgba(60, 64, 67, 0.15);\n",
              "      fill: #174EA6;\n",
              "    }\n",
              "\n",
              "    [theme=dark] .colab-df-convert {\n",
              "      background-color: #3B4455;\n",
              "      fill: #D2E3FC;\n",
              "    }\n",
              "\n",
              "    [theme=dark] .colab-df-convert:hover {\n",
              "      background-color: #434B5C;\n",
              "      box-shadow: 0px 1px 3px 1px rgba(0, 0, 0, 0.15);\n",
              "      filter: drop-shadow(0px 1px 2px rgba(0, 0, 0, 0.3));\n",
              "      fill: #FFFFFF;\n",
              "    }\n",
              "  </style>\n",
              "\n",
              "      <script>\n",
              "        const buttonEl =\n",
              "          document.querySelector('#df-33a2a5f0-5ecd-43d3-a3a0-dc6b897eb7e3 button.colab-df-convert');\n",
              "        buttonEl.style.display =\n",
              "          google.colab.kernel.accessAllowed ? 'block' : 'none';\n",
              "\n",
              "        async function convertToInteractive(key) {\n",
              "          const element = document.querySelector('#df-33a2a5f0-5ecd-43d3-a3a0-dc6b897eb7e3');\n",
              "          const dataTable =\n",
              "            await google.colab.kernel.invokeFunction('convertToInteractive',\n",
              "                                                     [key], {});\n",
              "          if (!dataTable) return;\n",
              "\n",
              "          const docLinkHtml = 'Like what you see? Visit the ' +\n",
              "            '<a target=\"_blank\" href=https://colab.research.google.com/notebooks/data_table.ipynb>data table notebook</a>'\n",
              "            + ' to learn more about interactive tables.';\n",
              "          element.innerHTML = '';\n",
              "          dataTable['output_type'] = 'display_data';\n",
              "          await google.colab.output.renderOutput(dataTable, element);\n",
              "          const docLink = document.createElement('div');\n",
              "          docLink.innerHTML = docLinkHtml;\n",
              "          element.appendChild(docLink);\n",
              "        }\n",
              "      </script>\n",
              "    </div>\n",
              "  </div>\n",
              "  "
            ]
          },
          "metadata": {},
          "execution_count": 32
        }
      ]
    },
    {
      "cell_type": "code",
      "source": [
        "!wget 'https://debonair-sa.s3.af-south-1.amazonaws.com/datasets/spectograms.zip'"
      ],
      "metadata": {
        "colab": {
          "base_uri": "https://localhost:8080/"
        },
        "id": "NC7rN4pf5xVG",
        "outputId": "4ddb8f7f-b83f-4c83-c314-1808628bffa3"
      },
      "execution_count": 33,
      "outputs": [
        {
          "output_type": "stream",
          "name": "stdout",
          "text": [
            "--2022-09-13 12:51:41--  https://debonair-sa.s3.af-south-1.amazonaws.com/datasets/spectograms.zip\n",
            "Resolving debonair-sa.s3.af-south-1.amazonaws.com (debonair-sa.s3.af-south-1.amazonaws.com)... 52.95.176.25\n",
            "Connecting to debonair-sa.s3.af-south-1.amazonaws.com (debonair-sa.s3.af-south-1.amazonaws.com)|52.95.176.25|:443... connected.\n",
            "HTTP request sent, awaiting response... 200 OK\n",
            "Length: 1052228902 (1003M) [application/zip]\n",
            "Saving to: ‘spectograms.zip’\n",
            "\n",
            "spectograms.zip     100%[===================>]   1003M  10.3MB/s    in 1m 40s  \n",
            "\n",
            "2022-09-13 12:53:23 (10.0 MB/s) - ‘spectograms.zip’ saved [1052228902/1052228902]\n",
            "\n"
          ]
        }
      ]
    },
    {
      "cell_type": "code",
      "source": [
        "!unzip '/content/spectograms.zip'"
      ],
      "metadata": {
        "id": "5ScUfwjY6AMX"
      },
      "execution_count": null,
      "outputs": []
    },
    {
      "cell_type": "code",
      "source": [
        "def prepare_test_set(path):\n",
        "  image = tf.io.read_file(path)\n",
        "  image = tf.image.decode_png(image, channels = 3)\n",
        "  image = tf.image.resize(image, [256, 256])\n",
        "  image = tf.cast(image, tf.float32)\n",
        "  return image"
      ],
      "metadata": {
        "id": "_6SSlCX4-qxk"
      },
      "execution_count": 115,
      "outputs": []
    },
    {
      "cell_type": "code",
      "source": [
        "test_images = []\n",
        "for item in range(len(test)):\n",
        "  test_image = test.iloc[item, 1]\n",
        "  test_dir = '/content/spectograms/' + test_image\n",
        "  test_dir = str(test_dir)\n",
        "  test_images.append(test_dir)"
      ],
      "metadata": {
        "id": "g-iUw61TFe8v"
      },
      "execution_count": 110,
      "outputs": []
    },
    {
      "cell_type": "code",
      "source": [
        "# test_dataset = tf.data.Dataset.list_files(str(path_to_test_set/test['spec_name'].tolist()), shuffle = False)\n",
        "\n",
        "test_dataset = tf.data.Dataset.from_tensor_slices(test_images)\n",
        "test_dataset  = test_dataset.map(prepare_test_set, num_parallel_calls = tf.data.AUTOTUNE)\n",
        "test_dataset = test_dataset.batch(batch_size = 64)\n",
        "test_dataset.element_spec"
      ],
      "metadata": {
        "colab": {
          "base_uri": "https://localhost:8080/"
        },
        "id": "nNoL7GzU-WXq",
        "outputId": "613538d3-52c5-455a-96a9-7536a66f70e8"
      },
      "execution_count": 119,
      "outputs": [
        {
          "output_type": "execute_result",
          "data": {
            "text/plain": [
              "TensorSpec(shape=(None, 256, 256, 3), dtype=tf.float32, name=None)"
            ]
          },
          "metadata": {},
          "execution_count": 119
        }
      ]
    },
    {
      "cell_type": "code",
      "source": [
        "predictions = model.predict(test_dataset)\n",
        "predictions = abs(predictions) / 100"
      ],
      "metadata": {
        "colab": {
          "base_uri": "https://localhost:8080/"
        },
        "id": "uHdN17FY6pAv",
        "outputId": "14206fa5-2f80-470d-e73e-a0efc9f26e10"
      },
      "execution_count": 146,
      "outputs": [
        {
          "output_type": "stream",
          "name": "stdout",
          "text": [
            "29/29 [==============================] - 10s 358ms/step\n"
          ]
        }
      ]
    },
    {
      "cell_type": "code",
      "source": [
        "predictions.shape"
      ],
      "metadata": {
        "colab": {
          "base_uri": "https://localhost:8080/"
        },
        "id": "4wJhcA3T8Imx",
        "outputId": "8cd050a5-bd66-45d1-de07-31e1250e4d20"
      },
      "execution_count": 147,
      "outputs": [
        {
          "output_type": "execute_result",
          "data": {
            "text/plain": [
              "(1800, 12)"
            ]
          },
          "metadata": {},
          "execution_count": 147
        }
      ]
    },
    {
      "cell_type": "code",
      "source": [
        "columns = train['Swahili_word'].unique().tolist()\n",
        "submission[[columns]] = 0\n",
        "submission.head()"
      ],
      "metadata": {
        "colab": {
          "base_uri": "https://localhost:8080/",
          "height": 206
        },
        "id": "q6BQmlavIEEd",
        "outputId": "57e146e7-cb5a-4782-e6d5-47d8bc2f59de"
      },
      "execution_count": 150,
      "outputs": [
        {
          "output_type": "execute_result",
          "data": {
            "text/plain": [
              "               Word_id  Predictions  mbili  tatu  ndio  nne  nane  hapana  \\\n",
              "0  id_jp2pxl0r84ya.wav            8      0     0     0    0     0       0   \n",
              "1  id_ndduqqvthbpx.wav           11      0     0     0    0     0       0   \n",
              "2  id_36oxymxfcm6q.wav           10      0     0     0    0     0       0   \n",
              "3  id_ue9b0to760pg.wav            9      0     0     0    0     0       0   \n",
              "4  id_prja4oprb914.wav            9      0     0     0    0     0       0   \n",
              "\n",
              "   sita  tisa  moja  saba  tano  kumi  \n",
              "0     0     0     0     0     0     0  \n",
              "1     0     0     0     0     0     0  \n",
              "2     0     0     0     0     0     0  \n",
              "3     0     0     0     0     0     0  \n",
              "4     0     0     0     0     0     0  "
            ],
            "text/html": [
              "\n",
              "  <div id=\"df-c9f97c57-30e9-4a55-90e4-3fa80f0d8f35\">\n",
              "    <div class=\"colab-df-container\">\n",
              "      <div>\n",
              "<style scoped>\n",
              "    .dataframe tbody tr th:only-of-type {\n",
              "        vertical-align: middle;\n",
              "    }\n",
              "\n",
              "    .dataframe tbody tr th {\n",
              "        vertical-align: top;\n",
              "    }\n",
              "\n",
              "    .dataframe thead th {\n",
              "        text-align: right;\n",
              "    }\n",
              "</style>\n",
              "<table border=\"1\" class=\"dataframe\">\n",
              "  <thead>\n",
              "    <tr style=\"text-align: right;\">\n",
              "      <th></th>\n",
              "      <th>Word_id</th>\n",
              "      <th>Predictions</th>\n",
              "      <th>mbili</th>\n",
              "      <th>tatu</th>\n",
              "      <th>ndio</th>\n",
              "      <th>nne</th>\n",
              "      <th>nane</th>\n",
              "      <th>hapana</th>\n",
              "      <th>sita</th>\n",
              "      <th>tisa</th>\n",
              "      <th>moja</th>\n",
              "      <th>saba</th>\n",
              "      <th>tano</th>\n",
              "      <th>kumi</th>\n",
              "    </tr>\n",
              "  </thead>\n",
              "  <tbody>\n",
              "    <tr>\n",
              "      <th>0</th>\n",
              "      <td>id_jp2pxl0r84ya.wav</td>\n",
              "      <td>8</td>\n",
              "      <td>0</td>\n",
              "      <td>0</td>\n",
              "      <td>0</td>\n",
              "      <td>0</td>\n",
              "      <td>0</td>\n",
              "      <td>0</td>\n",
              "      <td>0</td>\n",
              "      <td>0</td>\n",
              "      <td>0</td>\n",
              "      <td>0</td>\n",
              "      <td>0</td>\n",
              "      <td>0</td>\n",
              "    </tr>\n",
              "    <tr>\n",
              "      <th>1</th>\n",
              "      <td>id_ndduqqvthbpx.wav</td>\n",
              "      <td>11</td>\n",
              "      <td>0</td>\n",
              "      <td>0</td>\n",
              "      <td>0</td>\n",
              "      <td>0</td>\n",
              "      <td>0</td>\n",
              "      <td>0</td>\n",
              "      <td>0</td>\n",
              "      <td>0</td>\n",
              "      <td>0</td>\n",
              "      <td>0</td>\n",
              "      <td>0</td>\n",
              "      <td>0</td>\n",
              "    </tr>\n",
              "    <tr>\n",
              "      <th>2</th>\n",
              "      <td>id_36oxymxfcm6q.wav</td>\n",
              "      <td>10</td>\n",
              "      <td>0</td>\n",
              "      <td>0</td>\n",
              "      <td>0</td>\n",
              "      <td>0</td>\n",
              "      <td>0</td>\n",
              "      <td>0</td>\n",
              "      <td>0</td>\n",
              "      <td>0</td>\n",
              "      <td>0</td>\n",
              "      <td>0</td>\n",
              "      <td>0</td>\n",
              "      <td>0</td>\n",
              "    </tr>\n",
              "    <tr>\n",
              "      <th>3</th>\n",
              "      <td>id_ue9b0to760pg.wav</td>\n",
              "      <td>9</td>\n",
              "      <td>0</td>\n",
              "      <td>0</td>\n",
              "      <td>0</td>\n",
              "      <td>0</td>\n",
              "      <td>0</td>\n",
              "      <td>0</td>\n",
              "      <td>0</td>\n",
              "      <td>0</td>\n",
              "      <td>0</td>\n",
              "      <td>0</td>\n",
              "      <td>0</td>\n",
              "      <td>0</td>\n",
              "    </tr>\n",
              "    <tr>\n",
              "      <th>4</th>\n",
              "      <td>id_prja4oprb914.wav</td>\n",
              "      <td>9</td>\n",
              "      <td>0</td>\n",
              "      <td>0</td>\n",
              "      <td>0</td>\n",
              "      <td>0</td>\n",
              "      <td>0</td>\n",
              "      <td>0</td>\n",
              "      <td>0</td>\n",
              "      <td>0</td>\n",
              "      <td>0</td>\n",
              "      <td>0</td>\n",
              "      <td>0</td>\n",
              "      <td>0</td>\n",
              "    </tr>\n",
              "  </tbody>\n",
              "</table>\n",
              "</div>\n",
              "      <button class=\"colab-df-convert\" onclick=\"convertToInteractive('df-c9f97c57-30e9-4a55-90e4-3fa80f0d8f35')\"\n",
              "              title=\"Convert this dataframe to an interactive table.\"\n",
              "              style=\"display:none;\">\n",
              "        \n",
              "  <svg xmlns=\"http://www.w3.org/2000/svg\" height=\"24px\"viewBox=\"0 0 24 24\"\n",
              "       width=\"24px\">\n",
              "    <path d=\"M0 0h24v24H0V0z\" fill=\"none\"/>\n",
              "    <path d=\"M18.56 5.44l.94 2.06.94-2.06 2.06-.94-2.06-.94-.94-2.06-.94 2.06-2.06.94zm-11 1L8.5 8.5l.94-2.06 2.06-.94-2.06-.94L8.5 2.5l-.94 2.06-2.06.94zm10 10l.94 2.06.94-2.06 2.06-.94-2.06-.94-.94-2.06-.94 2.06-2.06.94z\"/><path d=\"M17.41 7.96l-1.37-1.37c-.4-.4-.92-.59-1.43-.59-.52 0-1.04.2-1.43.59L10.3 9.45l-7.72 7.72c-.78.78-.78 2.05 0 2.83L4 21.41c.39.39.9.59 1.41.59.51 0 1.02-.2 1.41-.59l7.78-7.78 2.81-2.81c.8-.78.8-2.07 0-2.86zM5.41 20L4 18.59l7.72-7.72 1.47 1.35L5.41 20z\"/>\n",
              "  </svg>\n",
              "      </button>\n",
              "      \n",
              "  <style>\n",
              "    .colab-df-container {\n",
              "      display:flex;\n",
              "      flex-wrap:wrap;\n",
              "      gap: 12px;\n",
              "    }\n",
              "\n",
              "    .colab-df-convert {\n",
              "      background-color: #E8F0FE;\n",
              "      border: none;\n",
              "      border-radius: 50%;\n",
              "      cursor: pointer;\n",
              "      display: none;\n",
              "      fill: #1967D2;\n",
              "      height: 32px;\n",
              "      padding: 0 0 0 0;\n",
              "      width: 32px;\n",
              "    }\n",
              "\n",
              "    .colab-df-convert:hover {\n",
              "      background-color: #E2EBFA;\n",
              "      box-shadow: 0px 1px 2px rgba(60, 64, 67, 0.3), 0px 1px 3px 1px rgba(60, 64, 67, 0.15);\n",
              "      fill: #174EA6;\n",
              "    }\n",
              "\n",
              "    [theme=dark] .colab-df-convert {\n",
              "      background-color: #3B4455;\n",
              "      fill: #D2E3FC;\n",
              "    }\n",
              "\n",
              "    [theme=dark] .colab-df-convert:hover {\n",
              "      background-color: #434B5C;\n",
              "      box-shadow: 0px 1px 3px 1px rgba(0, 0, 0, 0.15);\n",
              "      filter: drop-shadow(0px 1px 2px rgba(0, 0, 0, 0.3));\n",
              "      fill: #FFFFFF;\n",
              "    }\n",
              "  </style>\n",
              "\n",
              "      <script>\n",
              "        const buttonEl =\n",
              "          document.querySelector('#df-c9f97c57-30e9-4a55-90e4-3fa80f0d8f35 button.colab-df-convert');\n",
              "        buttonEl.style.display =\n",
              "          google.colab.kernel.accessAllowed ? 'block' : 'none';\n",
              "\n",
              "        async function convertToInteractive(key) {\n",
              "          const element = document.querySelector('#df-c9f97c57-30e9-4a55-90e4-3fa80f0d8f35');\n",
              "          const dataTable =\n",
              "            await google.colab.kernel.invokeFunction('convertToInteractive',\n",
              "                                                     [key], {});\n",
              "          if (!dataTable) return;\n",
              "\n",
              "          const docLinkHtml = 'Like what you see? Visit the ' +\n",
              "            '<a target=\"_blank\" href=https://colab.research.google.com/notebooks/data_table.ipynb>data table notebook</a>'\n",
              "            + ' to learn more about interactive tables.';\n",
              "          element.innerHTML = '';\n",
              "          dataTable['output_type'] = 'display_data';\n",
              "          await google.colab.output.renderOutput(dataTable, element);\n",
              "          const docLink = document.createElement('div');\n",
              "          docLink.innerHTML = docLinkHtml;\n",
              "          element.appendChild(docLink);\n",
              "        }\n",
              "      </script>\n",
              "    </div>\n",
              "  </div>\n",
              "  "
            ]
          },
          "metadata": {},
          "execution_count": 150
        }
      ]
    },
    {
      "cell_type": "code",
      "source": [
        "word_id = pd.DataFrame({'Word_id' : test['Word_id']})\n",
        "swahili_words = pd.DataFrame(predictions, columns = train.Swahili_word.unique())\n",
        "\n",
        "new_df = word_id.join(swahili_words)\n",
        "new_df.head()"
      ],
      "metadata": {
        "colab": {
          "base_uri": "https://localhost:8080/",
          "height": 206
        },
        "id": "v0ATvvvOIrgm",
        "outputId": "bb77b7d7-b0c1-4e9e-8b50-2527fd4e7bbb"
      },
      "execution_count": 172,
      "outputs": [
        {
          "output_type": "execute_result",
          "data": {
            "text/plain": [
              "               Word_id     mbili      tatu      ndio       nne      nane  \\\n",
              "0  id_jp2pxl0r84ya.wav  0.103308  0.007413  0.066636  0.064769  0.065224   \n",
              "1  id_ndduqqvthbpx.wav  0.091722  0.071763  0.059589  0.030508  0.094365   \n",
              "2  id_36oxymxfcm6q.wav  0.125980  0.151889  0.086176  0.072189  0.067100   \n",
              "3  id_ue9b0to760pg.wav  0.038673  0.067965  0.118830  0.014584  0.031960   \n",
              "4  id_prja4oprb914.wav  0.020287  0.022206  0.034969  0.024906  0.008547   \n",
              "\n",
              "     hapana      sita      tisa      moja      saba      tano      kumi  \n",
              "0  0.086192  0.039909  0.047595  0.110706  0.053632  0.019226  0.067004  \n",
              "1  0.028644  0.038527  0.022767  0.073281  0.023760  0.033721  0.162237  \n",
              "2  0.067337  0.133466  0.064596  0.064570  0.101045  0.120998  0.097822  \n",
              "3  0.031061  0.095206  0.044682  0.034521  0.091088  0.038179  0.016840  \n",
              "4  0.015603  0.043812  0.005023  0.013969  0.052198  0.035081  0.038497  "
            ],
            "text/html": [
              "\n",
              "  <div id=\"df-86f154cb-349b-4ff4-850a-f03715206b6e\">\n",
              "    <div class=\"colab-df-container\">\n",
              "      <div>\n",
              "<style scoped>\n",
              "    .dataframe tbody tr th:only-of-type {\n",
              "        vertical-align: middle;\n",
              "    }\n",
              "\n",
              "    .dataframe tbody tr th {\n",
              "        vertical-align: top;\n",
              "    }\n",
              "\n",
              "    .dataframe thead th {\n",
              "        text-align: right;\n",
              "    }\n",
              "</style>\n",
              "<table border=\"1\" class=\"dataframe\">\n",
              "  <thead>\n",
              "    <tr style=\"text-align: right;\">\n",
              "      <th></th>\n",
              "      <th>Word_id</th>\n",
              "      <th>mbili</th>\n",
              "      <th>tatu</th>\n",
              "      <th>ndio</th>\n",
              "      <th>nne</th>\n",
              "      <th>nane</th>\n",
              "      <th>hapana</th>\n",
              "      <th>sita</th>\n",
              "      <th>tisa</th>\n",
              "      <th>moja</th>\n",
              "      <th>saba</th>\n",
              "      <th>tano</th>\n",
              "      <th>kumi</th>\n",
              "    </tr>\n",
              "  </thead>\n",
              "  <tbody>\n",
              "    <tr>\n",
              "      <th>0</th>\n",
              "      <td>id_jp2pxl0r84ya.wav</td>\n",
              "      <td>0.103308</td>\n",
              "      <td>0.007413</td>\n",
              "      <td>0.066636</td>\n",
              "      <td>0.064769</td>\n",
              "      <td>0.065224</td>\n",
              "      <td>0.086192</td>\n",
              "      <td>0.039909</td>\n",
              "      <td>0.047595</td>\n",
              "      <td>0.110706</td>\n",
              "      <td>0.053632</td>\n",
              "      <td>0.019226</td>\n",
              "      <td>0.067004</td>\n",
              "    </tr>\n",
              "    <tr>\n",
              "      <th>1</th>\n",
              "      <td>id_ndduqqvthbpx.wav</td>\n",
              "      <td>0.091722</td>\n",
              "      <td>0.071763</td>\n",
              "      <td>0.059589</td>\n",
              "      <td>0.030508</td>\n",
              "      <td>0.094365</td>\n",
              "      <td>0.028644</td>\n",
              "      <td>0.038527</td>\n",
              "      <td>0.022767</td>\n",
              "      <td>0.073281</td>\n",
              "      <td>0.023760</td>\n",
              "      <td>0.033721</td>\n",
              "      <td>0.162237</td>\n",
              "    </tr>\n",
              "    <tr>\n",
              "      <th>2</th>\n",
              "      <td>id_36oxymxfcm6q.wav</td>\n",
              "      <td>0.125980</td>\n",
              "      <td>0.151889</td>\n",
              "      <td>0.086176</td>\n",
              "      <td>0.072189</td>\n",
              "      <td>0.067100</td>\n",
              "      <td>0.067337</td>\n",
              "      <td>0.133466</td>\n",
              "      <td>0.064596</td>\n",
              "      <td>0.064570</td>\n",
              "      <td>0.101045</td>\n",
              "      <td>0.120998</td>\n",
              "      <td>0.097822</td>\n",
              "    </tr>\n",
              "    <tr>\n",
              "      <th>3</th>\n",
              "      <td>id_ue9b0to760pg.wav</td>\n",
              "      <td>0.038673</td>\n",
              "      <td>0.067965</td>\n",
              "      <td>0.118830</td>\n",
              "      <td>0.014584</td>\n",
              "      <td>0.031960</td>\n",
              "      <td>0.031061</td>\n",
              "      <td>0.095206</td>\n",
              "      <td>0.044682</td>\n",
              "      <td>0.034521</td>\n",
              "      <td>0.091088</td>\n",
              "      <td>0.038179</td>\n",
              "      <td>0.016840</td>\n",
              "    </tr>\n",
              "    <tr>\n",
              "      <th>4</th>\n",
              "      <td>id_prja4oprb914.wav</td>\n",
              "      <td>0.020287</td>\n",
              "      <td>0.022206</td>\n",
              "      <td>0.034969</td>\n",
              "      <td>0.024906</td>\n",
              "      <td>0.008547</td>\n",
              "      <td>0.015603</td>\n",
              "      <td>0.043812</td>\n",
              "      <td>0.005023</td>\n",
              "      <td>0.013969</td>\n",
              "      <td>0.052198</td>\n",
              "      <td>0.035081</td>\n",
              "      <td>0.038497</td>\n",
              "    </tr>\n",
              "  </tbody>\n",
              "</table>\n",
              "</div>\n",
              "      <button class=\"colab-df-convert\" onclick=\"convertToInteractive('df-86f154cb-349b-4ff4-850a-f03715206b6e')\"\n",
              "              title=\"Convert this dataframe to an interactive table.\"\n",
              "              style=\"display:none;\">\n",
              "        \n",
              "  <svg xmlns=\"http://www.w3.org/2000/svg\" height=\"24px\"viewBox=\"0 0 24 24\"\n",
              "       width=\"24px\">\n",
              "    <path d=\"M0 0h24v24H0V0z\" fill=\"none\"/>\n",
              "    <path d=\"M18.56 5.44l.94 2.06.94-2.06 2.06-.94-2.06-.94-.94-2.06-.94 2.06-2.06.94zm-11 1L8.5 8.5l.94-2.06 2.06-.94-2.06-.94L8.5 2.5l-.94 2.06-2.06.94zm10 10l.94 2.06.94-2.06 2.06-.94-2.06-.94-.94-2.06-.94 2.06-2.06.94z\"/><path d=\"M17.41 7.96l-1.37-1.37c-.4-.4-.92-.59-1.43-.59-.52 0-1.04.2-1.43.59L10.3 9.45l-7.72 7.72c-.78.78-.78 2.05 0 2.83L4 21.41c.39.39.9.59 1.41.59.51 0 1.02-.2 1.41-.59l7.78-7.78 2.81-2.81c.8-.78.8-2.07 0-2.86zM5.41 20L4 18.59l7.72-7.72 1.47 1.35L5.41 20z\"/>\n",
              "  </svg>\n",
              "      </button>\n",
              "      \n",
              "  <style>\n",
              "    .colab-df-container {\n",
              "      display:flex;\n",
              "      flex-wrap:wrap;\n",
              "      gap: 12px;\n",
              "    }\n",
              "\n",
              "    .colab-df-convert {\n",
              "      background-color: #E8F0FE;\n",
              "      border: none;\n",
              "      border-radius: 50%;\n",
              "      cursor: pointer;\n",
              "      display: none;\n",
              "      fill: #1967D2;\n",
              "      height: 32px;\n",
              "      padding: 0 0 0 0;\n",
              "      width: 32px;\n",
              "    }\n",
              "\n",
              "    .colab-df-convert:hover {\n",
              "      background-color: #E2EBFA;\n",
              "      box-shadow: 0px 1px 2px rgba(60, 64, 67, 0.3), 0px 1px 3px 1px rgba(60, 64, 67, 0.15);\n",
              "      fill: #174EA6;\n",
              "    }\n",
              "\n",
              "    [theme=dark] .colab-df-convert {\n",
              "      background-color: #3B4455;\n",
              "      fill: #D2E3FC;\n",
              "    }\n",
              "\n",
              "    [theme=dark] .colab-df-convert:hover {\n",
              "      background-color: #434B5C;\n",
              "      box-shadow: 0px 1px 3px 1px rgba(0, 0, 0, 0.15);\n",
              "      filter: drop-shadow(0px 1px 2px rgba(0, 0, 0, 0.3));\n",
              "      fill: #FFFFFF;\n",
              "    }\n",
              "  </style>\n",
              "\n",
              "      <script>\n",
              "        const buttonEl =\n",
              "          document.querySelector('#df-86f154cb-349b-4ff4-850a-f03715206b6e button.colab-df-convert');\n",
              "        buttonEl.style.display =\n",
              "          google.colab.kernel.accessAllowed ? 'block' : 'none';\n",
              "\n",
              "        async function convertToInteractive(key) {\n",
              "          const element = document.querySelector('#df-86f154cb-349b-4ff4-850a-f03715206b6e');\n",
              "          const dataTable =\n",
              "            await google.colab.kernel.invokeFunction('convertToInteractive',\n",
              "                                                     [key], {});\n",
              "          if (!dataTable) return;\n",
              "\n",
              "          const docLinkHtml = 'Like what you see? Visit the ' +\n",
              "            '<a target=\"_blank\" href=https://colab.research.google.com/notebooks/data_table.ipynb>data table notebook</a>'\n",
              "            + ' to learn more about interactive tables.';\n",
              "          element.innerHTML = '';\n",
              "          dataTable['output_type'] = 'display_data';\n",
              "          await google.colab.output.renderOutput(dataTable, element);\n",
              "          const docLink = document.createElement('div');\n",
              "          docLink.innerHTML = docLinkHtml;\n",
              "          element.appendChild(docLink);\n",
              "        }\n",
              "      </script>\n",
              "    </div>\n",
              "  </div>\n",
              "  "
            ]
          },
          "metadata": {},
          "execution_count": 172
        }
      ]
    },
    {
      "cell_type": "code",
      "source": [
        "new_df.to_csv('/content/second_submission.csv', index = False)"
      ],
      "metadata": {
        "id": "CZ3YUDsYH2kM"
      },
      "execution_count": 173,
      "outputs": []
    }
  ]
}